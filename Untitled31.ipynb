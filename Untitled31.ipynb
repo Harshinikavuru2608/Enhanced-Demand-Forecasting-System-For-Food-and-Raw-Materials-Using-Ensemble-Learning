{
  "cells": [
    {
      "cell_type": "code",
      "source": [
        "from sklearn.ensemble import RandomForestRegressor\n",
        "import xgboost as xgb\n",
        "from sklearn.svm import SVR\n",
        "from sklearn.linear_model import LinearRegression\n",
        "from keras.wrappers.scikit_learn import KerasRegressor\n",
        "from mlxtend.regressor import StackingCVRegressor\n",
        "from sklearn.model_selection import GridSearchCV\n",
        "import pandas as pd\n",
        "from sklearn.preprocessing import StandardScaler\n",
        "from sklearn.metrics import mean_absolute_error\n",
        "from sklearn.ensemble import RandomForestRegressor\n",
        "import xgboost as xgb\n",
        "from sklearn.preprocessing import LabelEncoder, OneHotEncoder\n",
        "from sklearn.model_selection import train_test_split\n",
        "from sklearn.svm import SVR\n",
        "import keras.wrappers"
      ],
      "metadata": {
        "id": "1oMmWIpe60Ar"
      },
      "execution_count": null,
      "outputs": []
    },
    {
      "cell_type": "code",
      "execution_count": null,
      "metadata": {
        "colab": {
          "background_save": true
        },
        "id": "JujJTxKkm_gH"
      },
      "outputs": [],
      "source": [
        "dataset = pd.read_csv('FINAL DATASET.csv')\n",
        "X = dataset.iloc[:, 1:7].values\n",
        "Y = dataset.iloc[:, 7:19].values\n",
        "\n",
        "m1=[]\n",
        "m2=[]\n",
        "m3=[]\n",
        "m4=[]\n",
        "m5=[]"
      ]
    },
    {
      "cell_type": "code",
      "execution_count": null,
      "metadata": {
        "id": "gMypYsrwnMnN"
      },
      "outputs": [],
      "source": [
        "LE = LabelEncoder()\n",
        "onehotencoder = OneHotEncoder(categories ='auto')\n",
        "X = onehotencoder.fit_transform(X).toarray()\n",
        "X=pd.DataFrame(X)\n",
        "X.drop(X.columns[[0,12,43,56,58,59]], axis=1, inplace=True)"
      ]
    },
    {
      "cell_type": "code",
      "execution_count": null,
      "metadata": {
        "id": "V3bnmPBFnRS7"
      },
      "outputs": [],
      "source": [
        "X_train, X_test, Y_train, Y_test = train_test_split(X, Y, test_size = 0.2, random_state = 0)"
      ]
    },
    {
      "cell_type": "code",
      "execution_count": null,
      "metadata": {
        "id": "Af2O-rK3nVPg"
      },
      "outputs": [],
      "source": [
        "sc = StandardScaler()\n",
        "Y_train = sc.fit_transform(Y_train)\n",
        "Y_test = sc.transform(Y_test)"
      ]
    },
    {
      "cell_type": "code",
      "execution_count": null,
      "metadata": {
        "colab": {
          "base_uri": "https://localhost:8080/"
        },
        "id": "hjE03y_DnYTH",
        "outputId": "3832eb25-b6ea-495b-f9bc-4e0f2d2c4656"
      },
      "outputs": [
        {
          "name": "stdout",
          "output_type": "stream",
          "text": [
            "[0.5269287281200123, 0.5113026159986875, 0.7277601252704009, 0.7885910670729339, 0.758858331295043, 0.5238175010618709, 0.49838035043041656, 0.4606094428656294, 0.7851255789852093, 0.47203666707707903, 0.7527575516695606, 0.496409086077728]\n"
          ]
        }
      ],
      "source": [
        "regressor=RandomForestRegressor(n_estimators=10,random_state=0)\n",
        "for i in range(12):\n",
        "    regressor.fit(X_train,Y_train[:,i])\n",
        "    b_pred=regressor.predict(X_test)\n",
        "    b_pred=pd.DataFrame(b_pred)\n",
        "    z=mean_absolute_error(Y_test[:,i], b_pred)\n",
        "    m1.append(z)\n",
        "print(m1)"
      ]
    },
    {
      "cell_type": "code",
      "execution_count": null,
      "metadata": {
        "colab": {
          "base_uri": "https://localhost:8080/"
        },
        "id": "N0ltyPi_ndjU",
        "outputId": "3c89b9b0-f4b7-41bb-b0b6-62fac0ea99af"
      },
      "outputs": [
        {
          "name": "stderr",
          "output_type": "stream",
          "text": [
            "/usr/local/lib/python3.10/dist-packages/xgboost/core.py:160: UserWarning: [23:23:51] WARNING: /workspace/src/objective/regression_obj.cu:209: reg:linear is now deprecated in favor of reg:squarederror.\n",
            "  warnings.warn(smsg, UserWarning)\n",
            "/usr/local/lib/python3.10/dist-packages/xgboost/core.py:160: UserWarning: [23:23:51] WARNING: /workspace/src/objective/regression_obj.cu:209: reg:linear is now deprecated in favor of reg:squarederror.\n",
            "  warnings.warn(smsg, UserWarning)\n",
            "/usr/local/lib/python3.10/dist-packages/xgboost/core.py:160: UserWarning: [23:23:51] WARNING: /workspace/src/objective/regression_obj.cu:209: reg:linear is now deprecated in favor of reg:squarederror.\n",
            "  warnings.warn(smsg, UserWarning)\n",
            "/usr/local/lib/python3.10/dist-packages/xgboost/core.py:160: UserWarning: [23:23:51] WARNING: /workspace/src/objective/regression_obj.cu:209: reg:linear is now deprecated in favor of reg:squarederror.\n",
            "  warnings.warn(smsg, UserWarning)\n",
            "/usr/local/lib/python3.10/dist-packages/xgboost/core.py:160: UserWarning: [23:23:51] WARNING: /workspace/src/objective/regression_obj.cu:209: reg:linear is now deprecated in favor of reg:squarederror.\n",
            "  warnings.warn(smsg, UserWarning)\n",
            "/usr/local/lib/python3.10/dist-packages/xgboost/core.py:160: UserWarning: [23:23:52] WARNING: /workspace/src/objective/regression_obj.cu:209: reg:linear is now deprecated in favor of reg:squarederror.\n",
            "  warnings.warn(smsg, UserWarning)\n",
            "/usr/local/lib/python3.10/dist-packages/xgboost/core.py:160: UserWarning: [23:23:52] WARNING: /workspace/src/objective/regression_obj.cu:209: reg:linear is now deprecated in favor of reg:squarederror.\n",
            "  warnings.warn(smsg, UserWarning)\n",
            "/usr/local/lib/python3.10/dist-packages/xgboost/core.py:160: UserWarning: [23:23:52] WARNING: /workspace/src/objective/regression_obj.cu:209: reg:linear is now deprecated in favor of reg:squarederror.\n",
            "  warnings.warn(smsg, UserWarning)\n",
            "/usr/local/lib/python3.10/dist-packages/xgboost/core.py:160: UserWarning: [23:23:53] WARNING: /workspace/src/objective/regression_obj.cu:209: reg:linear is now deprecated in favor of reg:squarederror.\n",
            "  warnings.warn(smsg, UserWarning)\n",
            "/usr/local/lib/python3.10/dist-packages/xgboost/core.py:160: UserWarning: [23:23:53] WARNING: /workspace/src/objective/regression_obj.cu:209: reg:linear is now deprecated in favor of reg:squarederror.\n",
            "  warnings.warn(smsg, UserWarning)\n",
            "/usr/local/lib/python3.10/dist-packages/xgboost/core.py:160: UserWarning: [23:23:53] WARNING: /workspace/src/objective/regression_obj.cu:209: reg:linear is now deprecated in favor of reg:squarederror.\n",
            "  warnings.warn(smsg, UserWarning)\n",
            "/usr/local/lib/python3.10/dist-packages/xgboost/core.py:160: UserWarning: [23:23:53] WARNING: /workspace/src/objective/regression_obj.cu:209: reg:linear is now deprecated in favor of reg:squarederror.\n",
            "  warnings.warn(smsg, UserWarning)\n"
          ]
        },
        {
          "name": "stdout",
          "output_type": "stream",
          "text": [
            "[0.6928408802662724, 0.7124232812417608, 0.6556918200522042, 0.6542556982721177, 0.7454496152098952, 0.6928408802662754, 0.7124232812417641, 0.6302526529127113, 0.6542556982721162, 0.6819956936411861, 0.655691820052202, 0.6194923838005038]\n"
          ]
        }
      ],
      "source": [
        "xg_reg = xgb.XGBRegressor(objective ='reg:linear', colsample_bytree = 0.3, learning_rate = 0.1,\n",
        "                max_depth = 5, alpha = 10, n_estimators = 10)\n",
        "for i in range(12):\n",
        "    xg_reg.fit(X_train,Y_train[:,i])\n",
        "    b_pred=xg_reg.predict(X_test)\n",
        "    b_pred=pd.DataFrame(b_pred)\n",
        "    z=mean_absolute_error(Y_test[:,i], b_pred)\n",
        "    m2.append(z)\n",
        "print(m2)"
      ]
    },
    {
      "cell_type": "code",
      "execution_count": null,
      "metadata": {
        "colab": {
          "base_uri": "https://localhost:8080/"
        },
        "id": "K0pl-bu7ng6J",
        "outputId": "e9885f6a-40a8-40fd-de27-bc56f138a301"
      },
      "outputs": [
        {
          "name": "stderr",
          "output_type": "stream",
          "text": [
            "<ipython-input-8-624b9c78ca9f>:18: DeprecationWarning: KerasRegressor is deprecated, use Sci-Keras (https://github.com/adriangb/scikeras) instead. See https://www.adriangb.com/scikeras/stable/migration.html for help migrating.\n",
            "  model=KerasRegressor( build_fn=create_model, verbose=0)\n"
          ]
        },
        {
          "name": "stdout",
          "output_type": "stream",
          "text": [
            "[0.5571649739631068, 0.8469426743178223, 0.6804598318814183, 0.9389389072061199, 0.7536998824594654, 0.5784107002131461, 0.5559074217158279, 0.708092466265209, 0.77867272053539, 0.6080946392415262, 0.6595777381894053, 0.5348488546601106]\n"
          ]
        }
      ],
      "source": [
        "from keras.models import Sequential\n",
        "from keras.layers import Dense, Activation, LeakyReLU\n",
        "from keras.activations import relu, sigmoid\n",
        "from keras.wrappers.scikit_learn import KerasRegressor\n",
        "from sklearn.model_selection import GridSearchCV\n",
        "def create_model(layers,activation):\n",
        "    model=Sequential()\n",
        "    for i, nodes in enumerate(layers):\n",
        "        if i==0:\n",
        "            model.add(Dense(nodes,input_dim=X_train.shape[1]))\n",
        "            model.add(Activation(activation))\n",
        "        else:\n",
        "            model.add(Dense(nodes))\n",
        "            model.add(Activation(activation))\n",
        "    model.add(Dense(1))\n",
        "    model.compile(optimizer='adam',loss='binary_crossentropy', metrics=['accuracy'])\n",
        "    return model\n",
        "model=KerasRegressor( build_fn=create_model, verbose=0)\n",
        "model\n",
        "layers=[[6],[6,4,2]]\n",
        "activations=['sigmoid', 'relu']\n",
        "param_grid=dict(layers=layers,activation=activations,batch_size=[10,25], epochs=[100])\n",
        "grid=GridSearchCV(estimator=model, param_grid=param_grid)\n",
        "for i in range(12):\n",
        "    grid.fit(X_train,Y_train[:,i])\n",
        "    b_pred=grid.predict(X_test)\n",
        "    b_pred=pd.DataFrame(b_pred)\n",
        "    z=mean_absolute_error(Y_test[:,i], b_pred)\n",
        "    m3.append(z)\n",
        "print(m3)"
      ]
    },
    {
      "cell_type": "code",
      "execution_count": null,
      "metadata": {
        "colab": {
          "base_uri": "https://localhost:8080/"
        },
        "id": "ng4_B7pInoUr",
        "outputId": "5458bcb1-1de9-4d4d-abd9-a78622d3d9e1"
      },
      "outputs": [
        {
          "name": "stdout",
          "output_type": "stream",
          "text": [
            "[0.4952093649877964, 0.501659281012126, 0.5913280058068595, 0.6789778040899493, 0.7203635419233977, 0.49520936498779755, 0.5016592810121276, 0.43335307466039197, 0.6789778040899477, 0.48005967154302553, 0.5913280058068593, 0.4726413963641615]\n"
          ]
        }
      ],
      "source": [
        "regressor1=SVR(kernel='rbf')\n",
        "for i in range(12):\n",
        "    regressor1.fit(X_train,Y_train[:,i])\n",
        "    b_pred=regressor1.predict(X_test)\n",
        "    b_pred=pd.DataFrame(b_pred)\n",
        "    z=mean_absolute_error(Y_test[:,i], b_pred)\n",
        "    m4.append(z)\n",
        "print(m4)"
      ]
    },
    {
      "cell_type": "code",
      "execution_count": null,
      "metadata": {
        "id": "uPwnevJQou62"
      },
      "outputs": [],
      "source": [
        "def create_model(layers,activation):\n",
        "    model=Sequential()\n",
        "    for i, nodes in enumerate(layers):\n",
        "        if i==0:\n",
        "            model.add(Dense(nodes,input_dim=X_train.shape[1]))\n",
        "            model.add(Activation(activation))\n",
        "        else:\n",
        "            model.add(Dense(nodes))\n",
        "            model.add(Activation(activation))\n",
        "    model.add(Dense(1))\n",
        "    model.compile(optimizer='adam',loss='binary_crossentropy', metrics=['accuracy'])\n",
        "    return model"
      ]
    },
    {
      "cell_type": "code",
      "execution_count": null,
      "metadata": {
        "colab": {
          "base_uri": "https://localhost:8080/"
        },
        "id": "sNBWkUhpo0Jy",
        "outputId": "4935669a-c6b9-4a65-a969-9a08d8f7f703"
      },
      "outputs": [
        {
          "name": "stderr",
          "output_type": "stream",
          "text": [
            "<ipython-input-11-53c5232c972e>:1: DeprecationWarning: KerasRegressor is deprecated, use Sci-Keras (https://github.com/adriangb/scikeras) instead. See https://www.adriangb.com/scikeras/stable/migration.html for help migrating.\n",
            "  model=KerasRegressor( build_fn=create_model, verbose=0)\n"
          ]
        }
      ],
      "source": [
        "model=KerasRegressor( build_fn=create_model, verbose=0)\n",
        "layers=[[6,4],[6,4,2]]\n",
        "activations=['sigmoid', 'relu']\n",
        "param_grid=dict(layers=layers,activation=activations,batch_size=[10,25], epochs=[100])\n"
      ]
    },
    {
      "cell_type": "code",
      "execution_count": null,
      "metadata": {
        "id": "e-DgNkFvo33A"
      },
      "outputs": [],
      "source": [
        "stack = StackingCVRegressor(regressors=(\n",
        "                            RandomForestRegressor(n_estimators=10,random_state=0),SVR(kernel='rbf'),xgb.XGBRegressor(objective ='reg:linear', colsample_bytree = 0.3, learning_rate = 0.1,\n",
        "                max_depth = 5, alpha = 10, n_estimators = 10),GridSearchCV(estimator=model, param_grid=param_grid) ,SVR(kernel='rbf')),\n",
        "meta_regressor=LinearRegression(), cv=8,\n",
        "use_features_in_secondary=True,\n",
        "store_train_meta_features=True,\n",
        "shuffle=False,\n",
        "random_state=1)"
      ]
    },
    {
      "cell_type": "code",
      "execution_count": null,
      "metadata": {
        "colab": {
          "background_save": true,
          "base_uri": "https://localhost:8080/"
        },
        "id": "jMovLcdTo6yx",
        "outputId": "a6b247a8-8de2-4a72-92f0-7b5bd5dc8d8a"
      },
      "outputs": [
        {
          "name": "stderr",
          "output_type": "stream",
          "text": [
            "/usr/local/lib/python3.10/dist-packages/xgboost/core.py:160: UserWarning: [00:27:59] WARNING: /workspace/src/objective/regression_obj.cu:209: reg:linear is now deprecated in favor of reg:squarederror.\n",
            "  warnings.warn(smsg, UserWarning)\n",
            "/usr/local/lib/python3.10/dist-packages/xgboost/core.py:160: UserWarning: [01:10:18] WARNING: /workspace/src/objective/regression_obj.cu:209: reg:linear is now deprecated in favor of reg:squarederror.\n",
            "  warnings.warn(smsg, UserWarning)\n",
            "/usr/local/lib/python3.10/dist-packages/xgboost/core.py:160: UserWarning: [01:15:55] WARNING: /workspace/src/objective/regression_obj.cu:209: reg:linear is now deprecated in favor of reg:squarederror.\n",
            "  warnings.warn(smsg, UserWarning)\n",
            "/usr/local/lib/python3.10/dist-packages/xgboost/core.py:160: UserWarning: [01:15:56] WARNING: /workspace/src/objective/regression_obj.cu:209: reg:linear is now deprecated in favor of reg:squarederror.\n",
            "  warnings.warn(smsg, UserWarning)\n",
            "/usr/local/lib/python3.10/dist-packages/xgboost/core.py:160: UserWarning: [01:58:17] WARNING: /workspace/src/objective/regression_obj.cu:209: reg:linear is now deprecated in favor of reg:squarederror.\n",
            "  warnings.warn(smsg, UserWarning)\n",
            "/usr/local/lib/python3.10/dist-packages/xgboost/core.py:160: UserWarning: [02:03:48] WARNING: /workspace/src/objective/regression_obj.cu:209: reg:linear is now deprecated in favor of reg:squarederror.\n",
            "  warnings.warn(smsg, UserWarning)\n",
            "/usr/local/lib/python3.10/dist-packages/xgboost/core.py:160: UserWarning: [02:46:11] WARNING: /workspace/src/objective/regression_obj.cu:209: reg:linear is now deprecated in favor of reg:squarederror.\n",
            "  warnings.warn(smsg, UserWarning)\n",
            "/usr/local/lib/python3.10/dist-packages/xgboost/core.py:160: UserWarning: [02:51:40] WARNING: /workspace/src/objective/regression_obj.cu:209: reg:linear is now deprecated in favor of reg:squarederror.\n",
            "  warnings.warn(smsg, UserWarning)\n"
          ]
        }
      ],
      "source": [
        "for i in range(12):\n",
        "    stack.fit(X_train,Y_train[:,i])\n",
        "    b_pred=stack.predict(X_test)\n",
        "    b_pred=pd.DataFrame(b_pred)\n",
        "    z=mean_absolute_error(Y_test[:,i], b_pred)\n",
        "    m5.append(z)\n",
        "print(m5)"
      ]
    }
  ],
  "metadata": {
    "colab": {
      "provenance": []
    },
    "kernelspec": {
      "display_name": "Python 3",
      "name": "python3"
    },
    "language_info": {
      "name": "python"
    }
  },
  "nbformat": 4,
  "nbformat_minor": 0
}